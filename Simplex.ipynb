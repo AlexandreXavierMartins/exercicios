{
  "nbformat": 4,
  "nbformat_minor": 0,
  "metadata": {
    "colab": {
      "name": "Simplex.ipynb",
      "provenance": [],
      "authorship_tag": "ABX9TyO4YMzC9J8fKD7HBYtr2bks",
      "include_colab_link": true
    },
    "kernelspec": {
      "name": "python3",
      "display_name": "Python 3"
    },
    "language_info": {
      "name": "python"
    }
  },
  "cells": [
    {
      "cell_type": "markdown",
      "metadata": {
        "id": "view-in-github",
        "colab_type": "text"
      },
      "source": [
        "<a href=\"https://colab.research.google.com/github/AlexandreXavierMartins/exercicios/blob/main/Simplex.ipynb\" target=\"_parent\"><img src=\"https://colab.research.google.com/assets/colab-badge.svg\" alt=\"Open In Colab\"/></a>"
      ]
    },
    {
      "cell_type": "code",
      "execution_count": 23,
      "metadata": {
        "colab": {
          "base_uri": "https://localhost:8080/"
        },
        "id": "el0qGqv2QDng",
        "outputId": "ff15156b-c60f-47fc-bdb7-9e617791e904"
      },
      "outputs": [
        {
          "output_type": "stream",
          "name": "stdout",
          "text": [
            "Running\n",
            "Variável que entra = 1 com coef. = -2\n",
            "Variável que sai = 0 com razão = 30.0\n",
            "[[-1.0, 1.0, -3.0, 1.0, 0.0], [1.0, 0.0, -1.0, 1.0, 1.0]]\n",
            "[30.0, 40.0]\n",
            "[-3.0, 0.0, -5.0, 2.0, 0.0]\n",
            "60.0\n",
            "1\n",
            "Running\n",
            "Variável que entra = 2 com coef. = -5.0\n",
            "Solução Ilimitada\n"
          ]
        }
      ],
      "source": [
        "\n",
        "import math\n",
        "status = ['Running','Ótima', 'Ilimitada']\n",
        "\n",
        "\n",
        "def VarToIn(c):\n",
        "  cin = 0\n",
        "  j = -1\n",
        "  for i in range(len(c)):\n",
        "    if c[i] < cin:\n",
        "      cin = c[i]\n",
        "      j = i\n",
        "  return j\n",
        "\n",
        "def VarToOut(b, A, ind):\n",
        "  r = math.inf\n",
        "  j = -1\n",
        "  for i in range(len(b)):\n",
        "    if A[i][ind] > 0:\n",
        "      if b[i]/A[i][ind] < r:\n",
        "        r = b[i]/A[i][ind]\n",
        "        j = i\n",
        "  return j\n",
        "\n",
        "def pivoting(A, b, c, f, pivo, i, j, Nvar):\n",
        "  for k in range(Nvar):\n",
        "    A[i][k] = A[i][k]/pivo\n",
        "  b[i] = b[i]/pivo\n",
        "  for t in range(Neq):\n",
        "    if t != i:\n",
        "      const = A[t][j]\n",
        "      for k in range(Nvar):\n",
        "        A[t][k] = A[t][k] -const*A[i][k]\n",
        "      b[t] = b[t] - const*b[i]\n",
        "  const = c[j]\n",
        "  for k in range(Nvar):\n",
        "    c[k] = c[k] - const*A[i][k]\n",
        "  f = f - const*b[i]\n",
        "\n",
        "  return A, b, c, f\n",
        "\n",
        "def main(Nvar, Neq, A, b, c, status):\n",
        "  f = 0\n",
        "  iter = 1\n",
        "  flag = 1\n",
        "  while flag:\n",
        "    print(status[0])\n",
        "    j = VarToIn(c)    \n",
        "    if j >= 0:\n",
        "      print('Variável que entra =', j, 'com coef. =', c[j])\n",
        "      i = VarToOut(b, A, j)\n",
        "      if i >= 0:\n",
        "        print('Variável que sai =', i, 'com razão =', b[i]/A[i][j])\n",
        "        pivo = A[i][j]\n",
        "        A, b, c, f, = pivoting(A, b, c, f, pivo, i, j, Nvar)\n",
        "        print(A)\n",
        "        print(b)\n",
        "        print(c)\n",
        "        print(f)\n",
        "        #print(pivo)\n",
        "      else:\n",
        "        print('Solução', status[2])\n",
        "        flag = 0\n",
        "        break\n",
        "    else:\n",
        "      print('Solução', status[1])\n",
        "      flag = 0\n",
        "      break    \n",
        "    flag = int(input())\n",
        "\n",
        "Nvar = 5\n",
        "Neq = 2\n",
        "\n",
        "A = [[-1, 1, 4, 1, 0], \n",
        "     [2, -1, 2, 0, 1]]\n",
        "b = [30, 10]\n",
        "c = [-1, -2, 1, 0, 0]\n",
        "\n",
        "main(Nvar, Neq, A, b, c, status)"
      ]
    }
  ]
}