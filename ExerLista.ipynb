{
  "nbformat": 4,
  "nbformat_minor": 0,
  "metadata": {
    "colab": {
      "provenance": [],
      "authorship_tag": "ABX9TyMIwwgNhQbW0RUNEj3q78MT",
      "include_colab_link": true
    },
    "kernelspec": {
      "name": "python3",
      "display_name": "Python 3"
    },
    "language_info": {
      "name": "python"
    }
  },
  "cells": [
    {
      "cell_type": "markdown",
      "metadata": {
        "id": "view-in-github",
        "colab_type": "text"
      },
      "source": [
        "<a href=\"https://colab.research.google.com/github/AlexandreXavierMartins/exercicios/blob/main/ExerLista.ipynb\" target=\"_parent\"><img src=\"https://colab.research.google.com/assets/colab-badge.svg\" alt=\"Open In Colab\"/></a>"
      ]
    },
    {
      "cell_type": "code",
      "execution_count": 28,
      "metadata": {
        "colab": {
          "base_uri": "https://localhost:8080/"
        },
        "id": "P8Umxl0htLBy",
        "outputId": "148b5391-67f6-45bb-e736-3930f00b8370"
      },
      "outputs": [
        {
          "output_type": "stream",
          "name": "stdout",
          "text": [
            "[0, 2, 4, 6, 8]\n",
            "Está na lista\n",
            "[6, 8]\n",
            "Não está na lista\n",
            "[6, 8, 5]\n",
            "Está na lista\n"
          ]
        }
      ],
      "source": [
        "def verica_lista(Lista, v):\n",
        "  for i in range(len(Lista)):\n",
        "    if Lista[i] == v:\n",
        "      return 'Está na lista'\n",
        "  return 'Não está na lista'\n",
        "\n",
        "\n",
        "Lista = [0, 2, 4, 6, 8]\n",
        "print(Lista)\n",
        "\n",
        "print(verica_lista(Lista, 4))\n",
        "Lista.pop(0)\n",
        "Lista.pop(0)\n",
        "Lista.pop(0)\n",
        "print(Lista)\n",
        "print(verica_lista(Lista, 4))\n",
        "\n",
        "Lista.append(5)\n",
        "print(Lista)\n",
        "print(verica_lista(Lista, 5))\n",
        "\n",
        "\n",
        "\n",
        "\n"
      ]
    }
  ]
}