{
  "nbformat": 4,
  "nbformat_minor": 0,
  "metadata": {
    "colab": {
      "name": "SimAnnealing0.ipynb",
      "provenance": [],
      "authorship_tag": "ABX9TyNRVR7qUhzOZWoMx5IyudAB",
      "include_colab_link": true
    },
    "kernelspec": {
      "name": "python3",
      "display_name": "Python 3"
    },
    "language_info": {
      "name": "python"
    }
  },
  "cells": [
    {
      "cell_type": "markdown",
      "metadata": {
        "id": "view-in-github",
        "colab_type": "text"
      },
      "source": [
        "<a href=\"https://colab.research.google.com/github/AlexandreXavierMartins/exercicios/blob/main/SimAnnealing0.ipynb\" target=\"_parent\"><img src=\"https://colab.research.google.com/assets/colab-badge.svg\" alt=\"Open In Colab\"/></a>"
      ]
    },
    {
      "cell_type": "code",
      "execution_count": 10,
      "metadata": {
        "colab": {
          "base_uri": "https://localhost:8080/",
          "height": 265
        },
        "id": "9B2VsvJeERiX",
        "outputId": "7745e8da-23da-41bd-d33e-ecf654f0b701"
      },
      "outputs": [
        {
          "output_type": "display_data",
          "data": {
            "text/plain": [
              "<Figure size 432x288 with 1 Axes>"
            ],
            "image/png": "[encoded data removed]"
          },
          "metadata": {
            "needs_background": "light"
          }
        }
      ],
      "source": [
        "import math\n",
        "import numpy as np\n",
        "from pylab import plot, show\n",
        "#print(math.pi)\n",
        "\n",
        "#def f(x):\n",
        "#  return x**2 - math.cos(4*math.pi*x)\n",
        "\n",
        "def f(x):\n",
        "  return math.cos(x) + math.cos((2*x)**(1/2)) + math.cos((3*x)**(1/2))\n",
        "\n",
        "val = []\n",
        "xv = []\n",
        "i = 0\n",
        "max = 50\n",
        "delta = 0.1\n",
        "while i <= max:\n",
        "  val.append(f(i))\n",
        "  xv.append(i)\n",
        "  i = i+ delta\n",
        "\n",
        "plot(xv, val, \".\")\n",
        "show()\n",
        "\n"
      ]
    },
    {
      "cell_type": "code",
      "source": [
        "import numpy as np\n",
        "import matplotlib.pyplot as plt\n",
        "\n",
        "val = np.random.normal(0, 0.3, 10000)\n",
        "\n",
        "plt.hist(val,100) \n",
        "#plt.axvline(val.mean(), color='k', linestyle='dashed', linewidth=2) \n",
        "plt.show() "
      ],
      "metadata": {
        "id": "qXM6q6sTIpRf"
      },
      "execution_count": null,
      "outputs": []
    },
    {
      "cell_type": "code",
      "source": [
        "import math\n",
        "import numpy as np\n",
        "from pylab import plot, show\n",
        "#print(math.pi)\n",
        "\n",
        "def f(x):\n",
        "  k = math.cos(x)\n",
        "  n = math.sqrt(2*x)\n",
        "  k = k + math.cos(n)\n",
        "  n = math.sqrt(3*x)\n",
        "  k = k + math.cos(n)\n",
        "  return k\n",
        "\n",
        "\n",
        "print(math.cos(math.sqrt(0)))\n",
        "\n",
        "x = 25\n",
        "bestf = f(x)\n",
        "cf = bestf\n",
        "alpha = 0.80    #Taxa de Resfriamento (0,1)\n",
        "SAmax = 100\n",
        "Temp = 100\n",
        "\n",
        "val = []\n",
        "xv = []\n",
        "val.append(bestf)\n",
        "xv.append(x)\n",
        "\n",
        "print('Solução inicial: f(x) =', bestf, 'x =', x)\n",
        "\n",
        "while Temp >= 0.001:\n",
        "  for i in range(SAmax):\n",
        "    passo = np.random.normal(0, 1)\n",
        "    x = x + passo\n",
        "    if x < 0:\n",
        "      x = 0\n",
        "    if x > 50:\n",
        "      x = 50\n",
        "    nf = f(x)\n",
        "    if nf < cf:\n",
        "      cf = nf\n",
        "      #bx = x\n",
        "      val.append(cf)\n",
        "      xv.append(x)\n",
        "      if cf < bestf:\n",
        "        bestf = cf\n",
        "        bx = x\n",
        "        print('Solução atual: f(x) =', bestf, 'x =', x, 'Temperatura = ', Temp)\n",
        "    else:\n",
        "      delta = cf - nf \n",
        "      z = np.random.random()\n",
        "      if z < np.exp(delta/Temp):\n",
        "        cf = nf\n",
        "        val.append(cf)\n",
        "        xv.append(x)\n",
        "      else:\n",
        "        x = x - passo\n",
        "    #FIM FOR\n",
        "  Temp = Temp*alpha\n",
        "  #FIM WHILE\n",
        "\n",
        "plot(xv, val, \".\")\n",
        "plot(bx, bestf, \"*\")\n",
        "show()\n",
        "\n"
      ],
      "metadata": {
        "colab": {
          "base_uri": "https://localhost:8080/",
          "height": 699
        },
        "id": "70dod9CMXmEQ",
        "outputId": "7f1d70ad-c07c-4330-9d2a-43b48cb4d13f"
      },
      "execution_count": 34,
      "outputs": [
        {
          "output_type": "stream",
          "name": "stdout",
          "text": [
            "1.0\n",
            "Solução inicial: f(x) = 0.9748387415095843 x = 25\n",
            "Solução atual: f(x) = 0.96274133485424 x = 25.091230726912364 Temperatura =  100\n",
            "Solução atual: f(x) = 0.9037575463636198 x = 24.50620042992276 Temperatura =  100\n",
            "Solução atual: f(x) = 0.8492534859899291 x = 25.42412176007497 Temperatura =  100\n",
            "Solução atual: f(x) = 0.802345925162871 x = 25.510611183950093 Temperatura =  100\n",
            "Solução atual: f(x) = 0.33600872541723226 x = 26.081697060849706 Temperatura =  100\n",
            "Solução atual: f(x) = -0.15484733811479212 x = 26.522394946800286 Temperatura =  100\n",
            "Solução atual: f(x) = -0.17726117438339362 x = 22.850863427328328 Temperatura =  100\n",
            "Solução atual: f(x) = -0.35010304980285656 x = 22.287910795111667 Temperatura =  100\n",
            "Solução atual: f(x) = -0.3501414748298164 x = 22.161602037552374 Temperatura =  100\n",
            "Solução atual: f(x) = -0.35179676864046777 x = 22.247240384785403 Temperatura =  100\n",
            "Solução atual: f(x) = -0.5407455397666844 x = 26.84687799466828 Temperatura =  100\n",
            "Solução atual: f(x) = -1.0340451351749842 x = 27.290148635850805 Temperatura =  100\n",
            "Solução atual: f(x) = -1.658873795274989 x = 28.357222586265834 Temperatura =  100\n",
            "Solução atual: f(x) = -1.8623294468463167 x = 33.76815468091352 Temperatura =  80.0\n",
            "Solução atual: f(x) = -2.1292107789492905 x = 34.27947319144301 Temperatura =  13.421772800000006\n",
            "Solução atual: f(x) = -2.1400780656038716 x = 34.80800198911834 Temperatura =  13.421772800000006\n",
            "Solução atual: f(x) = -2.1683182965843195 x = 34.5010185444009 Temperatura =  10.737418240000006\n",
            "Solução atual: f(x) = -2.1698556606792234 x = 34.59492540870296 Temperatura =  8.589934592000004\n",
            "Solução atual: f(x) = -2.1700908333449234 x = 34.54170069263749 Temperatura =  6.871947673600004\n",
            "Solução atual: f(x) = -2.1703235861571404 x = 34.55755367952916 Temperatura =  3.5184372088832023\n",
            "Solução atual: f(x) = -2.1703444585292058 x = 34.563226978522245 Temperatura =  0.4722366482869651\n",
            "Solução atual: f(x) = -2.1703447443828026 x = 34.563841656168506 Temperatura =  0.3022314549036577\n",
            "Solução atual: f(x) = -2.1703447550933204 x = 34.56396050079864 Temperatura =  0.04056481920730341\n"
          ]
        },
        {
          "output_type": "display_data",
          "data": {
            "text/plain": [
              "<Figure size 432x288 with 1 Axes>"
            ],
            "image/png": "[encoded data removed]"
          },
          "metadata": {
            "needs_background": "light"
          }
        }
      ]
    },
    {
      "cell_type": "markdown",
      "source": [
        "Consider the function f(x) = x2 − cos 4πx, which looks like this\n",
        " Now adapt your program to find the minimum of the more complicated function f(x) =\n",
        "cos x + cos √2x + cos √3x in the range 0 < x < 50."
      ],
      "metadata": {
        "id": "PBk_PZ15EfpU"
      }
    }
  ]
}