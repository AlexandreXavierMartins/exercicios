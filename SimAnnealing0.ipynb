{
  "nbformat": 4,
  "nbformat_minor": 0,
  "metadata": {
    "colab": {
      "name": "SimAnnealing0.ipynb",
      "provenance": [],
      "authorship_tag": "ABX9TyOmYK+hePEzmBczvfSmhf2I",
      "include_colab_link": true
    },
    "kernelspec": {
      "name": "python3",
      "display_name": "Python 3"
    },
    "language_info": {
      "name": "python"
    }
  },
  "cells": [
    {
      "cell_type": "markdown",
      "metadata": {
        "id": "view-in-github",
        "colab_type": "text"
      },
      "source": [
        "<a href=\"https://colab.research.google.com/github/AlexandreXavierMartins/exercicios/blob/main/SimAnnealing0.ipynb\" target=\"_parent\"><img src=\"https://colab.research.google.com/assets/colab-badge.svg\" alt=\"Open In Colab\"/></a>"
      ]
    },
    {
      "cell_type": "code",
      "execution_count": null,
      "metadata": {
        "colab": {
          "base_uri": "https://localhost:8080/",
          "height": 265
        },
        "id": "9B2VsvJeERiX",
        "outputId": "7745e8da-23da-41bd-d33e-ecf654f0b701"
      },
      "outputs": [
        {
          "output_type": "display_data",
          "data": {
            "text/plain": [
              "<Figure size 432x288 with 1 Axes>"
            ],
            "image/png": "[encoded data removed]"
          },
          "metadata": {
            "needs_background": "light"
          }
        }
      ],
      "source": [
        "import math\n",
        "import numpy as np\n",
        "from pylab import plot, show\n",
        "#print(math.pi)\n",
        "\n",
        "#def f(x):\n",
        "#  return x**2 - math.cos(4*math.pi*x)\n",
        "\n",
        "def f(x):\n",
        "  return math.cos(x) + math.cos((2*x)**(1/2)) + math.cos((3*x)**(1/2))\n",
        "\n",
        "val = []\n",
        "xv = []\n",
        "i = 0\n",
        "max = 50\n",
        "delta = 0.1\n",
        "while i <= max:\n",
        "  val.append(f(i))\n",
        "  xv.append(i)\n",
        "  i = i+ delta\n",
        "\n",
        "plot(xv, val, \".\")\n",
        "show()\n",
        "\n"
      ]
    },
    {
      "cell_type": "code",
      "source": [
        "import numpy as np\n",
        "import matplotlib.pyplot as plt\n",
        "\n",
        "val = np.random.normal(0, 0.3, 10000)\n",
        "\n",
        "plt.hist(val,100) \n",
        "#plt.axvline(val.mean(), color='k', linestyle='dashed', linewidth=2) \n",
        "plt.show() "
      ],
      "metadata": {
        "id": "qXM6q6sTIpRf"
      },
      "execution_count": null,
      "outputs": []
    },
    {
      "cell_type": "code",
      "source": [
        "import math\n",
        "import numpy as np\n",
        "from pylab import plot, show\n",
        "#print(math.pi)\n",
        "\n",
        "def f(x):\n",
        "  return math.cos(x) + math.cos((2*x)**(1/2)) + math.cos((3*x)**(1/2))\n",
        "  \n",
        "\n",
        "\n",
        "print(math.cos(math.sqrt(0)))\n",
        "\n",
        "x = 25\n",
        "bestf = f(x)\n",
        "cf = bestf\n",
        "alpha = 0.90    #Taxa de Resfriamento (0,1)\n",
        "SAmax = 1000\n",
        "Temp = 100\n",
        "\n",
        "val = []\n",
        "xv = []\n",
        "val.append(bestf)\n",
        "xv.append(x)\n",
        "\n",
        "print('Solução inicial: f(x) =', bestf, 'x =', x)\n",
        "\n",
        "while Temp >= 0.001:\n",
        "  for i in range(SAmax):\n",
        "    passo = np.random.normal(0, 1)\n",
        "    x = x + passo\n",
        "    if x < 0:\n",
        "      x = 0\n",
        "    if x > 50:\n",
        "      x = 50\n",
        "    nf = f(x)\n",
        "    if nf < cf:\n",
        "      cf = nf\n",
        "      #bx = x\n",
        "      val.append(cf)\n",
        "      xv.append(x)\n",
        "      if cf < bestf:\n",
        "        bestf = cf\n",
        "        bx = x\n",
        "        print('Solução atual: f(x) =', bestf, 'x =', x, 'Temperatura = ', Temp)\n",
        "    else:\n",
        "      delta = cf - nf \n",
        "      z = np.random.random()\n",
        "      if z < np.exp(delta/Temp):\n",
        "        cf = nf\n",
        "        val.append(cf)\n",
        "        xv.append(x)\n",
        "      else:\n",
        "        x = x - passo\n",
        "    #FIM FOR\n",
        "  Temp = Temp*alpha\n",
        "  #FIM WHILE\n",
        "\n",
        "plot(xv, val, \".\")\n",
        "plot(bx, bestf, \"*\")\n",
        "show()\n",
        "\n"
      ],
      "metadata": {
        "colab": {
          "base_uri": "https://localhost:8080/",
          "height": 647
        },
        "id": "70dod9CMXmEQ",
        "outputId": "3a8762b5-e4f7-44f4-b658-3684f43dd797"
      },
      "execution_count": 2,
      "outputs": [
        {
          "output_type": "stream",
          "name": "stdout",
          "text": [
            "1.0\n",
            "Solução inicial: f(x) = 0.9748387415095843 x = 25\n",
            "Solução atual: f(x) = 0.8946140529538952 x = 24.48153733374435 Temperatura =  100\n",
            "Solução atual: f(x) = -0.3205803870923222 x = 22.482636048189594 Temperatura =  100\n",
            "Solução atual: f(x) = -0.352041952675522 x = 22.22865617920397 Temperatura =  100\n",
            "Solução atual: f(x) = -0.5402611849267573 x = 9.82468512900464 Temperatura =  100\n",
            "Solução atual: f(x) = -0.6293362962479292 x = 26.92237533453398 Temperatura =  100\n",
            "Solução atual: f(x) = -0.7412066462011133 x = 8.272070790184497 Temperatura =  100\n",
            "Solução atual: f(x) = -0.8217875943083751 x = 9.356766063887934 Temperatura =  100\n",
            "Solução atual: f(x) = -1.3871160611390807 x = 27.692056839299795 Temperatura =  100\n",
            "Solução atual: f(x) = -1.419296303334173 x = 29.152702753243002 Temperatura =  100\n",
            "Solução atual: f(x) = -2.0053745142580963 x = 33.98857292128524 Temperatura =  100\n",
            "Solução atual: f(x) = -2.1702671965787412 x = 34.551671047333336 Temperatura =  100\n",
            "Solução atual: f(x) = -2.208074467447737 x = 4.368063949497387 Temperatura =  100\n",
            "Solução atual: f(x) = -2.6555772982417176 x = 3.857073724185493 Temperatura =  100\n",
            "Solução atual: f(x) = -2.8259381361956404 x = 3.2709872008726943 Temperatura =  100\n",
            "Solução atual: f(x) = -2.825955217361086 x = 3.271175561976099 Temperatura =  81.0\n",
            "Solução atual: f(x) = -2.82608490995999 x = 3.4020489482156684 Temperatura =  81.0\n",
            "Solução atual: f(x) = -2.8283002322189015 x = 3.3066543595041535 Temperatura =  81.0\n",
            "Solução atual: f(x) = -2.82886637603168 x = 3.3270852913799516 Temperatura =  43.04672100000001\n",
            "Solução atual: f(x) = -2.8289281585529817 x = 3.3338595190338265 Temperatura =  43.04672100000001\n",
            "Solução atual: f(x) = -2.828935278189455 x = 3.3378440281941457 Temperatura =  31.381059609000012\n"
          ]
        },
        {
          "output_type": "display_data",
          "data": {
            "text/plain": [
              "<Figure size 432x288 with 1 Axes>"
            ],
            "image/png": "[encoded data removed]"
          },
          "metadata": {
            "needs_background": "light"
          }
        }
      ]
    },
    {
      "cell_type": "markdown",
      "source": [
        "Consider the function f(x) = x2 − cos 4πx, which looks like this\n",
        " Now adapt your program to find the minimum of the more complicated function f(x) =\n",
        "cos x + cos √2x + cos √3x in the range 0 < x < 50."
      ],
      "metadata": {
        "id": "PBk_PZ15EfpU"
      }
    }
  ]
}