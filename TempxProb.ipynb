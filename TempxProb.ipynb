{
  "nbformat": 4,
  "nbformat_minor": 0,
  "metadata": {
    "colab": {
      "name": "TempxProb.ipynb",
      "provenance": [],
      "authorship_tag": "ABX9TyPullSJY/CzeuW+MZCMazDA",
      "include_colab_link": true
    },
    "kernelspec": {
      "name": "python3",
      "display_name": "Python 3"
    },
    "language_info": {
      "name": "python"
    }
  },
  "cells": [
    {
      "cell_type": "markdown",
      "metadata": {
        "id": "view-in-github",
        "colab_type": "text"
      },
      "source": [
        "<a href=\"https://colab.research.google.com/github/AlexandreXavierMartins/exercicios/blob/main/TempxProb.ipynb\" target=\"_parent\"><img src=\"https://colab.research.google.com/assets/colab-badge.svg\" alt=\"Open In Colab\"/></a>"
      ]
    },
    {
      "cell_type": "code",
      "metadata": {
        "id": "Z4IaD_npKB6W"
      },
      "source": [
        "import matplotlib.pyplot as plt\n",
        "import numpy as np\n",
        "\n",
        "np.seterr(divide=\"ignore\")\n",
        "\n",
        "\n",
        "def Graf_Temp_Prob(n):\n",
        "    prob = []\n",
        "    xlabel = []\n",
        "    for i in range(n):\n",
        "        if i > 0:\n",
        "            valor = np.exp(-1/i)\n",
        "        else:\n",
        "            valor = np.exp(-1/0.01)\n",
        "        prob.append(valor)\n",
        "        xlabel.append(i)\n",
        "    plt.plot(xlabel, prob)\n",
        "    plt.title(\"Probabilidade x Temperatura\", fontsize = 15, fontweight = 'bold')\n",
        "    plt.xlabel(\"Temperatura\", fontsize = 12, fontweight = 'bold')\n",
        "    plt.ylabel(\"Probabilidade\", fontsize = 12, fontweight = 'bold')\n",
        "    plt.show()\n",
        "\n",
        "Graf_Temp_Prob(100)\n",
        "\n"
      ],
      "execution_count": null,
      "outputs": []
    }
  ]
}