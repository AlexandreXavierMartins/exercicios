{
  "nbformat": 4,
  "nbformat_minor": 0,
  "metadata": {
    "colab": {
      "name": "Oleoduto.ipynb",
      "provenance": [],
      "include_colab_link": true
    },
    "kernelspec": {
      "name": "python3",
      "display_name": "Python 3"
    },
    "language_info": {
      "name": "python"
    }
  },
  "cells": [
    {
      "cell_type": "markdown",
      "metadata": {
        "id": "view-in-github",
        "colab_type": "text"
      },
      "source": [
        "<a href=\"https://colab.research.google.com/github/AlexandreXavierMartins/exercicios/blob/main/Oleoduto.ipynb\" target=\"_parent\"><img src=\"https://colab.research.google.com/assets/colab-badge.svg\" alt=\"Open In Colab\"/></a>"
      ]
    },
    {
      "cell_type": "markdown",
      "source": [
        "Problema do oleaduto:\n",
        "6km pelo rio ao custo de 200000 por km\n",
        "10km por terra ao custo de 100000 por km "
      ],
      "metadata": {
        "id": "A56xEYOvqCQp"
      }
    },
    {
      "cell_type": "code",
      "source": [
        "import math\n",
        "import numpy as np\n",
        "from pylab import plot, show\n",
        "\n",
        "def custo(x, ct, cr, xmax):\n",
        "  return ct*(xmax - x)+cr*((rmax)**2 + (x)**2)**(1/2)\n",
        "\n",
        "\n",
        "##Parâmentros\n",
        "xmax = 10\n",
        "rmax = 6\n",
        "ct = 100000\n",
        "cr = 200000\n",
        "passo = 0.01 \n",
        "\n",
        "\n",
        "print(custo(0, ct, cr, xmax))\n",
        "\n",
        "print(custo(10, ct, cr, xmax))\n",
        "x = 0\n",
        "\n",
        "val = []\n",
        "xv = []\n",
        "\n",
        "\n",
        "bestc = 500000000000000\n",
        "cont = 0\n",
        "while x <= 10:\n",
        "  cont = cont + 1\n",
        "  \n",
        "  c = custo(x, ct, cr, xmax)\n",
        "  val.append(c)\n",
        "  xv.append(x)\n",
        "  if c < bestc:\n",
        "    bestc = c\n",
        "    bestx = x\n",
        "  x = x + passo  \n",
        "\n",
        "print(bestc)\n",
        "print(bestx)\n",
        "print(cont)\n",
        "plot(xv, val, \".\")\n",
        "plot(bestx, bestc, \"*\")\n",
        "show()\n",
        "\n"
      ],
      "metadata": {
        "colab": {
          "base_uri": "https://localhost:8080/",
          "height": 363
        },
        "id": "mepVLtcoqEGl",
        "outputId": "29cc91a4-4425-4975-8849-671ad99ad19b"
      },
      "execution_count": 5,
      "outputs": [
        {
          "output_type": "stream",
          "name": "stdout",
          "text": [
            "2200000.0\n",
            "2332380.7579381205\n",
            "2039230.6667122268\n",
            "3.45999999999997\n",
            "1001\n"
          ]
        },
        {
          "output_type": "display_data",
          "data": {
            "text/plain": [
              "<Figure size 432x288 with 1 Axes>"
            ],
            "image/png": "[encoded data removed]"
          },
          "metadata": {
            "needs_background": "light"
          }
        }
      ]
    }
  ]
}