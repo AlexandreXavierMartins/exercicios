{
  "nbformat": 4,
  "nbformat_minor": 0,
  "metadata": {
    "colab": {
      "name": "Oleoduto.ipynb",
      "provenance": [],
      "authorship_tag": "ABX9TyMiQ8PUyYvQHsXhfFQstjR8",
      "include_colab_link": true
    },
    "kernelspec": {
      "name": "python3",
      "display_name": "Python 3"
    },
    "language_info": {
      "name": "python"
    }
  },
  "cells": [
    {
      "cell_type": "markdown",
      "metadata": {
        "id": "view-in-github",
        "colab_type": "text"
      },
      "source": [
        "<a href=\"https://colab.research.google.com/github/AlexandreXavierMartins/exercicios/blob/main/Oleoduto.ipynb\" target=\"_parent\"><img src=\"https://colab.research.google.com/assets/colab-badge.svg\" alt=\"Open In Colab\"/></a>"
      ]
    },
    {
      "cell_type": "markdown",
      "source": [
        "Problema do oleaduto:\n",
        "6km pelo rio ao custo de 200000 por km\n",
        "10km por terra ao custo de 100000 por km "
      ],
      "metadata": {
        "id": "A56xEYOvqCQp"
      }
    },
    {
      "cell_type": "code",
      "source": [
        "def custo(x, ct, cr, xmax):\n",
        "  return ct*(xmax - x)+cr*((rmax)**2 + (x)**2)**(1/2)\n",
        "\n",
        "\n",
        "##Parâmentros\n",
        "xmax = 10\n",
        "rmax = 6\n",
        "ct = 100000\n",
        "cr = 200000\n",
        "passo = 0.001 \n",
        "\n",
        "\n",
        "print(custo(0, ct, cr, xmax))\n",
        "\n",
        "print(custo(10, ct, cr, xmax))\n",
        "x = 0\n",
        "\n",
        "bestc = 500000000000000\n",
        "cont = 0\n",
        "while x <= 10:\n",
        "  cont = cont + 1\n",
        "  c = custo(x, ct, cr, xmax)\n",
        "  if c < bestc:\n",
        "    bestc = c\n",
        "    bestx = x\n",
        "  x = x + passo  \n",
        "\n",
        "print(bestc)\n",
        "print(bestx)\n",
        "print(cont)\n",
        "\n"
      ],
      "metadata": {
        "colab": {
          "base_uri": "https://localhost:8080/"
        },
        "id": "mepVLtcoqEGl",
        "outputId": "f0ec6f0f-f37c-4aa9-8306-439b62a91c86"
      },
      "execution_count": 8,
      "outputs": [
        {
          "output_type": "stream",
          "name": "stdout",
          "text": [
            "2200000.0\n",
            "2332380.7579381205\n",
            "2039230.4846531055\n",
            "3.4639999999997295\n",
            "10001\n"
          ]
        }
      ]
    }
  ]
}