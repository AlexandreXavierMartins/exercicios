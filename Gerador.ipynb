{
  "nbformat": 4,
  "nbformat_minor": 0,
  "metadata": {
    "colab": {
      "name": "Gerador.ipynb",
      "provenance": [],
      "authorship_tag": "ABX9TyNmDlDKP9/nmR4K9kMeot13",
      "include_colab_link": true
    },
    "kernelspec": {
      "name": "python3",
      "display_name": "Python 3"
    },
    "language_info": {
      "name": "python"
    }
  },
  "cells": [
    {
      "cell_type": "markdown",
      "metadata": {
        "id": "view-in-github",
        "colab_type": "text"
      },
      "source": [
        "<a href=\"https://colab.research.google.com/github/AlexandreXavierMartins/exercicios/blob/main/Gerador.ipynb\" target=\"_parent\"><img src=\"https://colab.research.google.com/assets/colab-badge.svg\" alt=\"Open In Colab\"/></a>"
      ]
    },
    {
      "cell_type": "code",
      "metadata": {
        "colab": {
          "base_uri": "https://localhost:8080/"
        },
        "id": "zqNMQz2L9mid",
        "outputId": "6cc17a04-5013-4201-8271-c2099a4066c6"
      },
      "source": [
        "import math\n",
        "import numpy as np\n",
        "limite_inferior = 1\n",
        "limite_superior = 2\n",
        "\n",
        "semente = 101\n",
        "np.random.seed(semente)\n",
        "\n",
        "print('Valor inteiro = ', np.random.randint(limite_inferior, limite_superior+1))\n",
        "#print('Valor fracionário = ', np.random.random())\n",
        "#print('Valor fracionário entre', limite_inferior, 'e', limite_superior, '=', np.random.uniform(limite_inferior, limite_superior))\n"
      ],
      "execution_count": null,
      "outputs": [
        {
          "output_type": "stream",
          "name": "stdout",
          "text": [
            "Valor inteiro =  2\n"
          ]
        }
      ]
    }
  ]
}