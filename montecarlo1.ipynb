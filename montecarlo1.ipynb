{
  "nbformat": 4,
  "nbformat_minor": 0,
  "metadata": {
    "colab": {
      "name": "montecarlo1.ipynb",
      "provenance": [],
      "authorship_tag": "ABX9TyPZsM5Um554vDpNqu2PQ5Yq",
      "include_colab_link": true
    },
    "kernelspec": {
      "name": "python3",
      "display_name": "Python 3"
    },
    "language_info": {
      "name": "python"
    }
  },
  "cells": [
    {
      "cell_type": "markdown",
      "metadata": {
        "id": "view-in-github",
        "colab_type": "text"
      },
      "source": [
        "<a href=\"https://colab.research.google.com/github/AlexandreXavierMartins/exercicios/blob/main/montecarlo1.ipynb\" target=\"_parent\"><img src=\"https://colab.research.google.com/assets/colab-badge.svg\" alt=\"Open In Colab\"/></a>"
      ]
    },
    {
      "cell_type": "markdown",
      "source": [
        "xn+1 = (a · xn + c)(mod m)"
      ],
      "metadata": {
        "id": "CGh7qJj0Kua4"
      }
    },
    {
      "cell_type": "code",
      "execution_count": null,
      "metadata": {
        "id": "SSGZ_qj-Ju8q"
      },
      "outputs": [],
      "source": [
        "a = 3\n",
        "c = 1\n",
        "m = 5\n",
        "x = 4\n",
        "\n",
        "for i in range(10):\n",
        "  x = (a*x + c)%(m)\n",
        "  print(x)"
      ]
    },
    {
      "cell_type": "code",
      "source": [
        "from pylab import plot, show\n",
        "\n",
        "a = 16807\n",
        "c = 0\n",
        "m = (2**31)\n",
        "print(m)\n",
        "x = 40\n",
        "val = []\n",
        "for i in range(100000):\n",
        "  x = (a*x + c)%(m)\n",
        "  #print(x)\n",
        "  val.append(x/m)\n",
        "plot(val,\".\")\n",
        "show()\n"
      ],
      "metadata": {
        "colab": {
          "base_uri": "https://localhost:8080/",
          "height": 282
        },
        "id": "rBwFAbYIK9HI",
        "outputId": "be6559b3-2397-423c-a75e-699705a33878"
      },
      "execution_count": 11,
      "outputs": [
        {
          "output_type": "stream",
          "name": "stdout",
          "text": [
            "2147483648\n"
          ]
        },
        {
          "output_type": "display_data",
          "data": {
            "text/plain": [
              "<Figure size 432x288 with 1 Axes>"
            ],
            "image/png": "[encoded data removed]"
          },
          "metadata": {
            "needs_background": "light"
          }
        }
      ]
    },
    {
      "cell_type": "markdown",
      "source": [
        "xn+1 = (a · xn + c)(mod m)"
      ],
      "metadata": {
        "id": "WPGfxp2wJ0xR"
      }
    }
  ]
}