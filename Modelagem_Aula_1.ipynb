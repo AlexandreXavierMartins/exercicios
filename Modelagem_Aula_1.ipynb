{
  "nbformat": 4,
  "nbformat_minor": 0,
  "metadata": {
    "colab": {
      "provenance": [],
      "authorship_tag": "ABX9TyO0LWg+pwjofzMWRnyQpZKq",
      "include_colab_link": true
    },
    "kernelspec": {
      "name": "python3",
      "display_name": "Python 3"
    },
    "language_info": {
      "name": "python"
    }
  },
  "cells": [
    {
      "cell_type": "markdown",
      "metadata": {
        "id": "view-in-github",
        "colab_type": "text"
      },
      "source": [
        "<a href=\"https://colab.research.google.com/github/AlexandreXavierMartins/exercicios/blob/main/Modelagem_Aula_1.ipynb\" target=\"_parent\"><img src=\"https://colab.research.google.com/assets/colab-badge.svg\" alt=\"Open In Colab\"/></a>"
      ]
    },
    {
      "cell_type": "code",
      "execution_count": 1,
      "metadata": {
        "colab": {
          "base_uri": "https://localhost:8080/"
        },
        "id": "C-OxOoGGacAQ",
        "outputId": "693e62ec-c4c0-4305-8135-897708464e3f"
      },
      "outputs": [
        {
          "output_type": "stream",
          "name": "stdout",
          "text": [
            "Collecting gurobipy\n",
            "  Downloading gurobipy-12.0.1-cp311-cp311-manylinux2014_x86_64.manylinux_2_17_x86_64.whl.metadata (16 kB)\n",
            "Downloading gurobipy-12.0.1-cp311-cp311-manylinux2014_x86_64.manylinux_2_17_x86_64.whl (14.4 MB)\n",
            "\u001b[2K   \u001b[90m━━━━━━━━━━━━━━━━━━━━━━━━━━━━━━━━━━━━━━━━\u001b[0m \u001b[32m14.4/14.4 MB\u001b[0m \u001b[31m43.0 MB/s\u001b[0m eta \u001b[36m0:00:00\u001b[0m\n",
            "\u001b[?25hInstalling collected packages: gurobipy\n",
            "Successfully installed gurobipy-12.0.1\n"
          ]
        }
      ],
      "source": [
        "pip install gurobipy"
      ]
    },
    {
      "cell_type": "markdown",
      "source": [
        "Uma metalúrgica deseja maximizar sua receita bruta. A Tabela 1 ilustra a proporção de cada material na mistura para a obtenção das ligas possíveis de fabricação. O preço está cotado em reais por tonelada da liga fabricada. Também em toneladas estão expressas as restrições de disponibilidade de matérias-prima.  Formular o modelo de programação matemática que maximiza a receita da empresa\n",
        "\n",
        "|         |   Liga Baixa  | Liga Alta   |  Disponibilidade |\n",
        "|:--------|:-------------:|:-----------:|:----------------:|\n",
        "| Cobre   |       0,50    |     0,20    |    16 ton        |\n",
        "| Zinco   |       0,25    |     0,30    |     11 ton        |\n",
        "| Chumbo  |       0,25    |     0,50    |     15 ton        |\n",
        "| Lucro   | 3.000         |    5.000    |                  |"
      ],
      "metadata": {
        "id": "lyDZ0E3Ua13H"
      }
    },
    {
      "cell_type": "code",
      "source": [
        "import gurobipy as gp\n",
        "from gurobipy import GRB\n",
        "\n",
        "\n",
        "\n",
        "try:\n",
        "    # Criar o modelo\n",
        "    model = gp.Model(\"Metalurgica\")\n",
        "\n",
        "    # Criar as variáveis de decisão\n",
        "    x_baixa = model.addVar(vtype=GRB.CONTINUOUS, name=\"toneladas_liga_baixa\")\n",
        "    x_alta = model.addVar(vtype=GRB.CONTINUOUS, name=\"toneladas_liga_alta\")\n",
        "\n",
        "    # Definir a função objetivo (maximizar o lucro)\n",
        "    model.setObjective(3000 * x_baixa + 5000 * x_alta, GRB.MAXIMIZE)\n",
        "\n",
        "    # Adicionar as restrições de disponibilidade de matéria-prima\n",
        "    model.addConstr(0.50 * x_baixa + 0.20 * x_alta <= 16, \"restricao_cobre\")\n",
        "    model.addConstr( 0.25 * x_baixa + 0.30 * x_alta <= 11, \"restricao_zinco\")\n",
        "    model.addConstr(0.25 * x_baixa + 0.50 * x_alta <= 15, \"restricao_chumbo\")\n",
        "\n",
        "    # Definir o caminho absoluto\n",
        "    caminho_absoluto = \"/content/meus_modelos/metalurgica.lp\"\n",
        "\n",
        "    # Criar diretórios caso não existam\n",
        "    os.makedirs(os.path.dirname(caminho_absoluto), exist_ok=True)\n",
        "\n",
        "    # Escrever o modelo para um arquivo .lp\n",
        "    model.write(caminho_absoluto)\n",
        "\n",
        "\n",
        "    # Otimizar o modelo\n",
        "    model.optimize()\n",
        "\n",
        "    # Imprimir os resultados\n",
        "    print(f\"Lucro máximo: {model.objVal}\")\n",
        "    print(f\"Toneladas de liga baixa produzida: {x_baixa.x}\")\n",
        "    print(f\"Toneladas de liga alta produzida: {x_alta.x}\")\n",
        "\n",
        "\n",
        " # Imprimir folgas e preços sombra\n",
        "    print(\"\\n--- Restrições ---\")\n",
        "    for constr in model.getConstrs():\n",
        "        print(f\"{constr.ConstrName}:\")\n",
        "        print(f\"  Folga: {constr.slack}\")\n",
        "\n",
        "\n",
        "except gp.GurobiError as e:\n",
        "    print(f\"Erro Gurobi: {e}\")\n",
        "\n",
        "except AttributeError:\n",
        "    print(\"Erro de atributo\")\n",
        "\n"
      ],
      "metadata": {
        "id": "evaiG6I8bF4i"
      },
      "execution_count": null,
      "outputs": []
    }
  ]
}