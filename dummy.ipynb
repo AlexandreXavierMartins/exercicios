{
  "nbformat": 4,
  "nbformat_minor": 0,
  "metadata": {
    "colab": {
      "name": "dummy.ipynb",
      "provenance": [],
      "authorship_tag": "ABX9TyNfLY6fYplH39xj4ToA+GEX",
      "include_colab_link": true
    },
    "kernelspec": {
      "name": "python3",
      "display_name": "Python 3"
    },
    "language_info": {
      "name": "python"
    }
  },
  "cells": [
    {
      "cell_type": "markdown",
      "metadata": {
        "id": "view-in-github",
        "colab_type": "text"
      },
      "source": [
        "<a href=\"https://colab.research.google.com/github/AlexandreXavierMartins/exercicios/blob/main/dummy.ipynb\" target=\"_parent\"><img src=\"https://colab.research.google.com/assets/colab-badge.svg\" alt=\"Open In Colab\"/></a>"
      ]
    },
    {
      "cell_type": "code",
      "execution_count": 14,
      "metadata": {
        "colab": {
          "base_uri": "https://localhost:8080/"
        },
        "id": "376wYD1VqZuv",
        "outputId": "a2398b41-8055-4245-e22a-60d91016d895"
      },
      "outputs": [
        {
          "output_type": "stream",
          "name": "stdout",
          "text": [
            "Iterações 201\n",
            "A altura que maximiza a área é 25.0\n"
          ]
        }
      ],
      "source": [
        "def area(h):\n",
        "  P = 100\n",
        "  return (P/2 - h)*h\n",
        "\n",
        "\n",
        "def heuristic(a, b, e):\n",
        "  x = a\n",
        "  f_star = area(x)\n",
        "  x_star = x\n",
        "  it = 0\n",
        "  while x <= b:\n",
        "    it = it +1\n",
        "    x = x + e\n",
        "    if area(x) > f_star:\n",
        "      f_star = area(x)\n",
        "      x_star = x\n",
        "  print('Iterações', it)\n",
        "  return x_star\n",
        "\n",
        "print('A altura que maximiza a área é', heuristic(0, 100, 0.5))\n"
      ]
    },
    {
      "cell_type": "code",
      "source": [
        "def f(x):\n",
        "  ct = 100000\n",
        "  cr = 200000\n",
        "  xmax = 10\n",
        "  rmax = 6\n",
        "  return ct*(xmax - x)+cr*((rmax)**2 + (x)**2)**(1/2)\n",
        "\n",
        "\n",
        "def heuristic(a, b, e):\n",
        "  x = a\n",
        "  f_star = f(x)\n",
        "  x_star = x\n",
        "  it = 0\n",
        "  while x <= b:\n",
        "    it = it +1\n",
        "    x = x + e\n",
        "    if f(x) < f_star:\n",
        "      f_star = f(x)\n",
        "      x_star = x\n",
        "  print('Iterações', it)\n",
        "  return x_star\n",
        "\n",
        "print('O ponto que minimiza é', heuristic(0, 10, 0.0001))\n"
      ],
      "metadata": {
        "colab": {
          "base_uri": "https://localhost:8080/"
        },
        "id": "Yhs2t-iqwG0i",
        "outputId": "6c23d3d4-0af3-44f9-870f-18eae2e0c283"
      },
      "execution_count": 16,
      "outputs": [
        {
          "output_type": "stream",
          "name": "stdout",
          "text": [
            "Iterações 100001\n",
            "O ponto que minimiza é 3.464100000002886\n"
          ]
        }
      ]
    },
    {
      "cell_type": "code",
      "source": [
        "def area(h):\n",
        "  P = 100\n",
        "  return (P/2 - h)*h\n",
        "\n",
        "\n",
        "def heuristic(a, b, e):\n",
        "  x = a\n",
        "  f_star = area(x)\n",
        "  x_star = x\n",
        "  it = 0\n",
        "  while x <= b:\n",
        "    it = it +1\n",
        "    x = x + e\n",
        "    if area(x) > f_star:\n",
        "      f_star = area(x)\n",
        "      x_star = x\n",
        "    else:\n",
        "      print('Iterações', it)\n",
        "      return x_star\n",
        "\n",
        "print('A altura que maximiza a área é', heuristic(0, 100, 0.5))"
      ],
      "metadata": {
        "id": "F6Z6iMYssyU-",
        "outputId": "0819051a-11ee-4335-b080-92c185915532",
        "colab": {
          "base_uri": "https://localhost:8080/"
        }
      },
      "execution_count": 15,
      "outputs": [
        {
          "output_type": "stream",
          "name": "stdout",
          "text": [
            "Iterações 51\n",
            "A altura que maximiza a área é 25.0\n"
          ]
        }
      ]
    },
    {
      "cell_type": "code",
      "source": [
        "def f(x):\n",
        "  ct = 100000\n",
        "  cr = 200000\n",
        "  xmax = 10\n",
        "  rmax = 6\n",
        "  return ct*(xmax - x)+cr*((rmax)**2 + (x)**2)**(1/2)\n",
        "\n",
        "\n",
        "def heuristic(a, b, e):\n",
        "  x = a\n",
        "  f_star = f(x)\n",
        "  x_star = x\n",
        "  it = 0\n",
        "  while x <= b:\n",
        "    it = it +1\n",
        "    x = x + e\n",
        "    if f(x) < f_star:\n",
        "      f_star = f(x)\n",
        "      x_star = x\n",
        "    else:\n",
        "      print('Iterações', it)\n",
        "      return x_star\n",
        "\n",
        "print('O ponto que minimiza é', heuristic(0, 10, 0.0001))"
      ],
      "metadata": {
        "id": "VXGgr-7Atvj2",
        "outputId": "40bd4edf-e7f1-452b-c259-c54f2cbe37db",
        "colab": {
          "base_uri": "https://localhost:8080/"
        }
      },
      "execution_count": 17,
      "outputs": [
        {
          "output_type": "stream",
          "name": "stdout",
          "text": [
            "Iterações 34642\n",
            "O ponto que minimiza é 3.464100000002886\n"
          ]
        }
      ]
    },
    {
      "cell_type": "code",
      "source": [
        "import math \n",
        "\n",
        "## Consider the function f(x) = x2 − cos 4πx, which looks like this:\n",
        "def f(x):\n",
        "  return (x**2) - math.cos(4*math.pi*x)\n",
        "\n",
        "\n",
        "def heuristic(a, b, e):\n",
        "  x = a\n",
        "  f_star = f(x)\n",
        "  x_star = x\n",
        "  it = 0\n",
        "  while x <= b:\n",
        "    it = it +1\n",
        "    x = x + e\n",
        "    if f(x) < f_star:\n",
        "      f_star = f(x)\n",
        "      x_star = x\n",
        "    else:\n",
        "      print('Iterações', it)\n",
        "      return x_star\n",
        "\n",
        "print('O ponto que minimiza é', heuristic(-5, 5, 0.001))\n"
      ],
      "metadata": {
        "id": "uvQYxh5xo60f",
        "outputId": "86f16510-f6f1-4f77-817a-5d874576371b",
        "colab": {
          "base_uri": "https://localhost:8080/"
        }
      },
      "execution_count": 20,
      "outputs": [
        {
          "output_type": "stream",
          "name": "stdout",
          "text": [
            "Iterações 73\n",
            "O ponto que minimiza é -4.927999999999976\n"
          ]
        }
      ]
    }
  ]
}