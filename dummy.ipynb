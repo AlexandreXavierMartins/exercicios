{
  "nbformat": 4,
  "nbformat_minor": 0,
  "metadata": {
    "colab": {
      "name": "dummy.ipynb",
      "provenance": [],
      "authorship_tag": "ABX9TyNiTDP3TVMESVzU7TdyID3o",
      "include_colab_link": true
    },
    "kernelspec": {
      "name": "python3",
      "display_name": "Python 3"
    },
    "language_info": {
      "name": "python"
    }
  },
  "cells": [
    {
      "cell_type": "markdown",
      "metadata": {
        "id": "view-in-github",
        "colab_type": "text"
      },
      "source": [
        "<a href=\"https://colab.research.google.com/github/AlexandreXavierMartins/exercicios/blob/main/dummy.ipynb\" target=\"_parent\"><img src=\"https://colab.research.google.com/assets/colab-badge.svg\" alt=\"Open In Colab\"/></a>"
      ]
    },
    {
      "cell_type": "code",
      "execution_count": null,
      "metadata": {
        "colab": {
          "base_uri": "https://localhost:8080/"
        },
        "id": "376wYD1VqZuv",
        "outputId": "cbe69554-6849-44a9-d99f-e51d7d3e4f69"
      },
      "outputs": [
        {
          "output_type": "stream",
          "name": "stdout",
          "text": [
            "A altura que maximiza a área é 25.0\n"
          ]
        }
      ],
      "source": [
        "def area(h):\n",
        "  P = 100\n",
        "  return (P/2 - h)*h\n",
        "\n",
        "\n",
        "def heuristic(a, b, e):\n",
        "  x = a\n",
        "  f_star = area(x)\n",
        "  x_star = x\n",
        "  while x <= b:\n",
        "    x = x + e\n",
        "    if area(x) > f_star:\n",
        "      f_star = area(x)\n",
        "      x_star = x\n",
        "  return x_star\n",
        "\n",
        "print('A altura que maximiza a área é', heuristic(0, 100, 0.5))\n"
      ]
    },
    {
      "cell_type": "code",
      "source": [
        "def f(x):\n",
        "  ct = 100000\n",
        "  cr = 200000\n",
        "  xmax = 10\n",
        "  rmax = 6\n",
        "  return ct*(xmax - x)+cr*((rmax)**2 + (x)**2)**(1/2)\n",
        "\n",
        "\n",
        "def heuristic(a, b, e):\n",
        "  x = a\n",
        "  f_star = f(x)\n",
        "  x_star = x\n",
        "  while x <= b:\n",
        "    x = x + e\n",
        "    if f(x) < f_star:\n",
        "      f_star = f(x)\n",
        "      x_star = x\n",
        "  return x_star\n",
        "\n",
        "print('O ponto que minimiza é', heuristic(0, 10, 0.0001))\n"
      ],
      "metadata": {
        "colab": {
          "base_uri": "https://localhost:8080/"
        },
        "id": "Yhs2t-iqwG0i",
        "outputId": "dea6d4eb-0b23-4a1a-bfa0-031d39e4c172"
      },
      "execution_count": 7,
      "outputs": [
        {
          "output_type": "stream",
          "name": "stdout",
          "text": [
            "O ponto que minimiza é 3.464100000002886\n"
          ]
        }
      ]
    }
  ]
}