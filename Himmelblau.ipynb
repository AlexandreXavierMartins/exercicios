{
  "nbformat": 4,
  "nbformat_minor": 0,
  "metadata": {
    "colab": {
      "name": "Himmelblau.ipynb",
      "provenance": [],
      "authorship_tag": "ABX9TyNYJR/S8fxCuMTRJTz2xl7l",
      "include_colab_link": true
    },
    "kernelspec": {
      "name": "python3",
      "display_name": "Python 3"
    },
    "language_info": {
      "name": "python"
    }
  },
  "cells": [
    {
      "cell_type": "markdown",
      "metadata": {
        "id": "view-in-github",
        "colab_type": "text"
      },
      "source": [
        "<a href=\"https://colab.research.google.com/github/AlexandreXavierMartins/exercicios/blob/main/Himmelblau.ipynb\" target=\"_parent\"><img src=\"https://colab.research.google.com/assets/colab-badge.svg\" alt=\"Open In Colab\"/></a>"
      ]
    },
    {
      "cell_type": "markdown",
      "source": [
        "Função de Himmelblau\n",
        "A função é f(x, y) = ((x^2)+y-11)^2+(x+(y^2)-7)^2$\n",
        "x e y entre -6 e 6\n",
        "Mínimo de f(x, y) = 0\n",
        "O problema tem 4 mínimos já conhecidos\n",
        "f(3, 2) = 0\n",
        "f(-2.8051, 3.1313) = 0\n",
        "f(-3.7793, -3.2831) = 0\n",
        "f(3.5844, -1.8481) = 0\n"
      ],
      "metadata": {
        "id": "--dJTaQ47759"
      }
    },
    {
      "cell_type": "code",
      "source": [
        "def f(x, y):\n",
        "  return ((x*x) + y -11)**2 +(x + (y*y) -7)**2\n",
        "#print(round(f(-3.7793, -3.2831), 6))\n",
        "#print(round(f(-2.8051, 3.1313), 6))\n",
        "#print(round(f(3,2), 6))\n",
        "#print(round(f(3.5844, -1.8481), 6))\n",
        "max = 4\n",
        "passo = 0.001\n",
        "e = 0.00001\n",
        "iter = 0\n",
        "x = -4\n",
        "while x <= max:\n",
        "  y = -4\n",
        "  while y <= max:\n",
        "    iter = iter +1\n",
        "    h = f(x,y) \n",
        "    #print(h)\n",
        "    if h < e:\n",
        "      print('x =', round(x, 4),'; y =', round(y, 4),'; f(x,y) =', round(h, 2))\n",
        "    y = y + passo\n",
        "    #print(x, y)\n",
        "  x = x + passo\n",
        "print(iter)"
      ],
      "metadata": {
        "colab": {
          "base_uri": "https://localhost:8080/"
        },
        "id": "IjMrQ4Mh7-yI",
        "outputId": "e1cd4847-cf59-4a54-9f5a-71ef3a442392"
      },
      "execution_count": 37,
      "outputs": [
        {
          "output_type": "stream",
          "name": "stdout",
          "text": [
            "x = -3.779 ; y = -3.283 ; f(x,y) = 0.0\n",
            "x = -2.805 ; y = 3.131 ; f(x,y) = 0.0\n",
            "x = 3.0 ; y = 2.0 ; f(x,y) = 0.0\n",
            "x = 3.584 ; y = -1.848 ; f(x,y) = 0.0\n",
            "64016001\n"
          ]
        }
      ]
    }
  ]
}