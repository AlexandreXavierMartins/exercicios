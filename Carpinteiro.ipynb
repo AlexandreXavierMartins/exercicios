{
  "nbformat": 4,
  "nbformat_minor": 0,
  "metadata": {
    "colab": {
      "name": "Carpinteiro.ipynb",
      "provenance": [],
      "authorship_tag": "ABX9TyO3qKMbDEafryCiZBgUUfWg",
      "include_colab_link": true
    },
    "kernelspec": {
      "name": "python3",
      "display_name": "Python 3"
    },
    "language_info": {
      "name": "python"
    }
  },
  "cells": [
    {
      "cell_type": "markdown",
      "metadata": {
        "id": "view-in-github",
        "colab_type": "text"
      },
      "source": [
        "<a href=\"https://colab.research.google.com/github/AlexandreXavierMartins/exercicios/blob/main/Carpinteiro.ipynb\" target=\"_parent\"><img src=\"https://colab.research.google.com/assets/colab-badge.svg\" alt=\"Open In Colab\"/></a>"
      ]
    },
    {
      "cell_type": "markdown",
      "source": [
        "Um carpinteiro possui um sarrafo com 10 metros de comprimento e pretende com este sarrafo fazer uma moldura retangular para um quadro. Como ele deve cortar o sarrafo, para que a área do quadro seja máxima?"
      ],
      "metadata": {
        "id": "bRndBt_nzBaA"
      }
    },
    {
      "cell_type": "code",
      "source": [
        "def area(b, h):\n",
        "  return b*h\n",
        "\n",
        "def base(h, S):\n",
        "  return (S -2*h)/2\n"
      ],
      "metadata": {
        "id": "_T7FsclRzCF8"
      },
      "execution_count": 10,
      "outputs": []
    },
    {
      "cell_type": "code",
      "source": [
        "##Dados de entrada\n",
        "S = 10 #Tamanho do Sarrafo\n",
        "\n",
        "print('Defina uma altura entre ', 0, 'e ', S/2)\n",
        "h = float(input())\n",
        "b = base(h, S)\n",
        "print('A área será', area(b, h))\n",
        " "
      ],
      "metadata": {
        "colab": {
          "base_uri": "https://localhost:8080/"
        },
        "id": "f0T0KsTDz2EI",
        "outputId": "a9f0bc3a-cc66-43c9-c604-ff655eae6bf1"
      },
      "execution_count": 4,
      "outputs": [
        {
          "output_type": "stream",
          "name": "stdout",
          "text": [
            "Defina uma altura entre  0 e  5.0\n",
            "2\n",
            "A área será 6.0\n"
          ]
        }
      ]
    },
    {
      "cell_type": "code",
      "source": [
        "#Força bruta\n",
        "\n",
        "##Dados de entrada\n",
        "S = 10 #Tamanho do Sarrafo\n",
        "passo = 0.5\n",
        "h = 0\n",
        "\n",
        "amax = 0\n",
        "iter = 0\n",
        "x = []\n",
        "y = []\n",
        "while h <= S/2:\n",
        "  \n",
        "  \n",
        "  iter = iter +1\n",
        "  b = base(h, S)\n",
        "  a = area(b, h)\n",
        "  x.append(h)\n",
        "  y.append(a)\n",
        "  if a > amax:\n",
        "    amax = a\n",
        "    hmax = h\n",
        "    bmax = b    \n",
        "  h = h+passo\n",
        "print('Área máxima é', amax, 'com altura', hmax, 'e base', bmax)\n",
        "print('Iterações =', iter)\n",
        "\n",
        "\n"
      ],
      "metadata": {
        "colab": {
          "base_uri": "https://localhost:8080/"
        },
        "id": "FP_8eHZ_43-b",
        "outputId": "bb95d1e3-fe9c-48e0-cbe4-d5dec1e874de"
      },
      "execution_count": 16,
      "outputs": [
        {
          "output_type": "stream",
          "name": "stdout",
          "text": [
            "Área máxima é 6.25 com altura 2.5 e base 2.5\n",
            "Iterações = 11\n"
          ]
        }
      ]
    }
  ]
}