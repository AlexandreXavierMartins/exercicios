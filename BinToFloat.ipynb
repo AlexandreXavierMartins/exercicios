{
  "nbformat": 4,
  "nbformat_minor": 0,
  "metadata": {
    "colab": {
      "name": "BinToFloat.ipynb",
      "provenance": [],
      "authorship_tag": "ABX9TyPuf0DJMtIghDmdTyDFam49",
      "include_colab_link": true
    },
    "kernelspec": {
      "name": "python3",
      "display_name": "Python 3"
    },
    "language_info": {
      "name": "python"
    }
  },
  "cells": [
    {
      "cell_type": "markdown",
      "metadata": {
        "id": "view-in-github",
        "colab_type": "text"
      },
      "source": [
        "<a href=\"https://colab.research.google.com/github/AlexandreXavierMartins/exercicios/blob/main/BinToFloat.ipynb\" target=\"_parent\"><img src=\"https://colab.research.google.com/assets/colab-badge.svg\" alt=\"Open In Colab\"/></a>"
      ]
    },
    {
      "cell_type": "code",
      "execution_count": 20,
      "metadata": {
        "colab": {
          "base_uri": "https://localhost:8080/"
        },
        "id": "gTpZLCGVp_Jj",
        "outputId": "3c30b6d3-9f47-45c3-fdb0-4fbd4d9439db"
      },
      "outputs": [
        {
          "output_type": "stream",
          "name": "stdout",
          "text": [
            "0.009775171065493646\n"
          ]
        }
      ],
      "source": [
        "def precisao(ub, lb, n):\n",
        "  return (ub-lb)/((2**n)-1)\n",
        "                  \n",
        "e = precisao(5, -5, 10)\n",
        "print(e)               \n"
      ]
    }
  ]
}