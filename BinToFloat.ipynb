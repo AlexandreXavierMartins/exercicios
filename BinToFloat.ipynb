{
  "nbformat": 4,
  "nbformat_minor": 0,
  "metadata": {
    "colab": {
      "name": "BinToFloat.ipynb",
      "provenance": [],
      "collapsed_sections": [],
      "authorship_tag": "ABX9TyP9YCtftvgTCrRa4vG8RZmS",
      "include_colab_link": true
    },
    "kernelspec": {
      "name": "python3",
      "display_name": "Python 3"
    },
    "language_info": {
      "name": "python"
    }
  },
  "cells": [
    {
      "cell_type": "markdown",
      "metadata": {
        "id": "view-in-github",
        "colab_type": "text"
      },
      "source": [
        "<a href=\"https://colab.research.google.com/github/AlexandreXavierMartins/exercicios/blob/main/BinToFloat.ipynb\" target=\"_parent\"><img src=\"https://colab.research.google.com/assets/colab-badge.svg\" alt=\"Open In Colab\"/></a>"
      ]
    },
    {
      "cell_type": "code",
      "execution_count": null,
      "metadata": {
        "id": "gTpZLCGVp_Jj"
      },
      "outputs": [],
      "source": [
        "def precisao(ub, lb, n):\n",
        "  return (ub-lb)/((2**n)-1)\n",
        "                  \n",
        "e = precisao(5, -5, 10)\n",
        "print(e)               \n"
      ]
    },
    {
      "cell_type": "code",
      "source": [
        "def decod(s, e, lb):\n",
        "  n = len(s) -1\n",
        "  soma = 0\n",
        "  for i in range(len(s)):\n",
        "    soma = soma + (2**n)*s[i]\n",
        "    n = n-1\n",
        "  return (soma*e) + lb \n",
        "  #fim decod\n",
        "\n",
        "s = [0]*10\n",
        "ub = 5\n",
        "lb = -5\n",
        "e = precisao(ub, lb, len(s))\n",
        "            \n",
        "x = decod(s, e, lb)\n",
        "print(x)\n"
      ],
      "metadata": {
        "colab": {
          "base_uri": "https://localhost:8080/"
        },
        "id": "RN-ZdC685lkj",
        "outputId": "d62f3693-52bb-4d06-862c-742c9d245aba"
      },
      "execution_count": 7,
      "outputs": [
        {
          "output_type": "stream",
          "name": "stdout",
          "text": [
            "-5.0\n"
          ]
        }
      ]
    }
  ]
}